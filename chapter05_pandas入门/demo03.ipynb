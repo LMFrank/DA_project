{
 "cells": [
  {
   "cell_type": "markdown",
   "metadata": {
    "collapsed": true,
    "pycharm": {
     "name": "#%% md\n"
    }
   },
   "source": [
    "### 5.3 汇总和计算描述统计"
   ]
  },
  {
   "cell_type": "code",
   "execution_count": 1,
   "outputs": [
    {
     "data": {
      "text/plain": "    one  two\na  1.40  NaN\nb  7.10 -4.5\nc   NaN  NaN\nd  0.75 -1.3",
      "text/html": "<div>\n<style scoped>\n    .dataframe tbody tr th:only-of-type {\n        vertical-align: middle;\n    }\n\n    .dataframe tbody tr th {\n        vertical-align: top;\n    }\n\n    .dataframe thead th {\n        text-align: right;\n    }\n</style>\n<table border=\"1\" class=\"dataframe\">\n  <thead>\n    <tr style=\"text-align: right;\">\n      <th></th>\n      <th>one</th>\n      <th>two</th>\n    </tr>\n  </thead>\n  <tbody>\n    <tr>\n      <th>a</th>\n      <td>1.40</td>\n      <td>NaN</td>\n    </tr>\n    <tr>\n      <th>b</th>\n      <td>7.10</td>\n      <td>-4.5</td>\n    </tr>\n    <tr>\n      <th>c</th>\n      <td>NaN</td>\n      <td>NaN</td>\n    </tr>\n    <tr>\n      <th>d</th>\n      <td>0.75</td>\n      <td>-1.3</td>\n    </tr>\n  </tbody>\n</table>\n</div>"
     },
     "execution_count": 1,
     "metadata": {},
     "output_type": "execute_result"
    }
   ],
   "source": [
    "import pandas as pd\n",
    "from pandas import DataFrame, Series\n",
    "import numpy as np\n",
    "\n",
    "df = pd.DataFrame([[1.4, np.nan], [7.1, -4.5],\n",
    "                   [np.nan, np.nan], [0.75, -1.3]],\n",
    "                  index=['a', 'b', 'c', 'd'],\n",
    "                  columns=['one', 'two'])\n",
    "df"
   ],
   "metadata": {
    "collapsed": false,
    "pycharm": {
     "name": "#%%\n"
    }
   }
  },
  {
   "cell_type": "code",
   "execution_count": 2,
   "outputs": [
    {
     "data": {
      "text/plain": "one    9.25\ntwo   -5.80\ndtype: float64"
     },
     "execution_count": 2,
     "metadata": {},
     "output_type": "execute_result"
    }
   ],
   "source": [
    "df.sum()"
   ],
   "metadata": {
    "collapsed": false,
    "pycharm": {
     "name": "#%%\n"
    }
   }
  },
  {
   "cell_type": "code",
   "execution_count": 3,
   "outputs": [
    {
     "data": {
      "text/plain": "a    1.40\nb    2.60\nc    0.00\nd   -0.55\ndtype: float64"
     },
     "execution_count": 3,
     "metadata": {},
     "output_type": "execute_result"
    }
   ],
   "source": [
    "df.sum(axis=1)"
   ],
   "metadata": {
    "collapsed": false,
    "pycharm": {
     "name": "#%%\n"
    }
   }
  },
  {
   "cell_type": "code",
   "execution_count": 4,
   "outputs": [
    {
     "data": {
      "text/plain": "a      NaN\nb    1.300\nc      NaN\nd   -0.275\ndtype: float64"
     },
     "execution_count": 4,
     "metadata": {},
     "output_type": "execute_result"
    }
   ],
   "source": [
    "df.mean(axis='columns', skipna=False)"
   ],
   "metadata": {
    "collapsed": false,
    "pycharm": {
     "name": "#%%\n"
    }
   }
  },
  {
   "cell_type": "code",
   "execution_count": 5,
   "outputs": [
    {
     "data": {
      "text/plain": "one    b\ntwo    d\ndtype: object"
     },
     "execution_count": 5,
     "metadata": {},
     "output_type": "execute_result"
    }
   ],
   "source": [
    "df.idxmax()"
   ],
   "metadata": {
    "collapsed": false,
    "pycharm": {
     "name": "#%%\n"
    }
   }
  },
  {
   "cell_type": "code",
   "execution_count": 6,
   "outputs": [
    {
     "data": {
      "text/plain": "    one  two\na  1.40  NaN\nb  8.50 -4.5\nc   NaN  NaN\nd  9.25 -5.8",
      "text/html": "<div>\n<style scoped>\n    .dataframe tbody tr th:only-of-type {\n        vertical-align: middle;\n    }\n\n    .dataframe tbody tr th {\n        vertical-align: top;\n    }\n\n    .dataframe thead th {\n        text-align: right;\n    }\n</style>\n<table border=\"1\" class=\"dataframe\">\n  <thead>\n    <tr style=\"text-align: right;\">\n      <th></th>\n      <th>one</th>\n      <th>two</th>\n    </tr>\n  </thead>\n  <tbody>\n    <tr>\n      <th>a</th>\n      <td>1.40</td>\n      <td>NaN</td>\n    </tr>\n    <tr>\n      <th>b</th>\n      <td>8.50</td>\n      <td>-4.5</td>\n    </tr>\n    <tr>\n      <th>c</th>\n      <td>NaN</td>\n      <td>NaN</td>\n    </tr>\n    <tr>\n      <th>d</th>\n      <td>9.25</td>\n      <td>-5.8</td>\n    </tr>\n  </tbody>\n</table>\n</div>"
     },
     "execution_count": 6,
     "metadata": {},
     "output_type": "execute_result"
    }
   ],
   "source": [
    "df.cumsum()"
   ],
   "metadata": {
    "collapsed": false,
    "pycharm": {
     "name": "#%%\n"
    }
   }
  },
  {
   "cell_type": "code",
   "execution_count": 7,
   "outputs": [
    {
     "data": {
      "text/plain": "            one       two\ncount  3.000000  2.000000\nmean   3.083333 -2.900000\nstd    3.493685  2.262742\nmin    0.750000 -4.500000\n25%    1.075000 -3.700000\n50%    1.400000 -2.900000\n75%    4.250000 -2.100000\nmax    7.100000 -1.300000",
      "text/html": "<div>\n<style scoped>\n    .dataframe tbody tr th:only-of-type {\n        vertical-align: middle;\n    }\n\n    .dataframe tbody tr th {\n        vertical-align: top;\n    }\n\n    .dataframe thead th {\n        text-align: right;\n    }\n</style>\n<table border=\"1\" class=\"dataframe\">\n  <thead>\n    <tr style=\"text-align: right;\">\n      <th></th>\n      <th>one</th>\n      <th>two</th>\n    </tr>\n  </thead>\n  <tbody>\n    <tr>\n      <th>count</th>\n      <td>3.000000</td>\n      <td>2.000000</td>\n    </tr>\n    <tr>\n      <th>mean</th>\n      <td>3.083333</td>\n      <td>-2.900000</td>\n    </tr>\n    <tr>\n      <th>std</th>\n      <td>3.493685</td>\n      <td>2.262742</td>\n    </tr>\n    <tr>\n      <th>min</th>\n      <td>0.750000</td>\n      <td>-4.500000</td>\n    </tr>\n    <tr>\n      <th>25%</th>\n      <td>1.075000</td>\n      <td>-3.700000</td>\n    </tr>\n    <tr>\n      <th>50%</th>\n      <td>1.400000</td>\n      <td>-2.900000</td>\n    </tr>\n    <tr>\n      <th>75%</th>\n      <td>4.250000</td>\n      <td>-2.100000</td>\n    </tr>\n    <tr>\n      <th>max</th>\n      <td>7.100000</td>\n      <td>-1.300000</td>\n    </tr>\n  </tbody>\n</table>\n</div>"
     },
     "execution_count": 7,
     "metadata": {},
     "output_type": "execute_result"
    }
   ],
   "source": [
    "df.describe()"
   ],
   "metadata": {
    "collapsed": false,
    "pycharm": {
     "name": "#%%\n"
    }
   }
  },
  {
   "cell_type": "code",
   "execution_count": 8,
   "outputs": [
    {
     "data": {
      "text/plain": "count     16\nunique     3\ntop        a\nfreq       8\ndtype: object"
     },
     "execution_count": 8,
     "metadata": {},
     "output_type": "execute_result"
    }
   ],
   "source": [
    "obj = pd.Series(['a', 'a', 'b', 'c'] * 4)\n",
    "obj.describe()"
   ],
   "metadata": {
    "collapsed": false,
    "pycharm": {
     "name": "#%%\n"
    }
   }
  },
  {
   "cell_type": "markdown",
   "source": [
    "#### 相关系数与协方差"
   ],
   "metadata": {
    "collapsed": false
   }
  },
  {
   "cell_type": "code",
   "execution_count": 10,
   "outputs": [
    {
     "ename": "RemoteDataError",
     "evalue": "Unable to read URL: https://finance.yahoo.com/quote/AAPL/history?period1=1499284800&period2=1657051199&interval=1d&frequency=1d&filter=history\nResponse Text:\nb'<!DOCTYPE html>\\n<html lang=\"zh\">\\n<head>\\n    <meta charset=\"utf-8\">\\n    <title>Yahoo</title>\\n    <meta name=\"viewport\" content=\"width=device-width,initial-scale=1,minimal-ui\">\\n    <meta http-equiv=\"X-UA-Compatible\" content=\"IE=edge,chrome=1\">\\n    <style>\\nhtml {\\n  height: 100%;\\n}\\nbody {\\n  background: #fafafc url(https://s.yimg.com/nn/img/sad-panda-201402200631.png) 50% 50%;\\n  background-size: cover;\\n  height: 100%;\\n  text-align: center;\\n  font: 300 16px \"helvetica neue\", helvetica, verdana, tahoma, arial, sans-serif;\\n}\\n#message {\\n  text-align: left;\\n  font-weight: 400;\\n  color: #1A1A1A;\\n}\\n#message a {\\n  padding: 0 3px;\\n}\\n#container {\\n  position: absolute;\\n  top: 50%;\\n  left: 50%;\\n  padding: 0 30px;\\n  margin-right: -50%;\\n  transform: translate(-50%, -50%);\\n  max-width: 40em;\\n  _width: 40em;\\n}\\n#container img {\\n  width: 174px;\\n  height: auto;\\n}\\n#switcher a {\\n  font-weight: 400;\\n}\\n#switcher a.active {\\n  color: #000;\\n  text-decoration: none;\\n  cursor: default;\\n}\\n    </style>\\n</head>\\n<body>\\n  <div id=\"container\">\\n    <img src=\"https://s.yimg.com/rz/p/yahoo_homepage_en-US_s_f_p_bestfit_homepage_2x.png\" alt=\"Yahoo Logo\">\\n    <div id=\"switcher\">\\n      <a data-lang=\"en\" class=\"active\" href=\\'#\\'>English</a> |\\n      <a data-lang=\"zh-Hant\" href=\\'#\\'>\\xe7\\xb9\\x81\\xe9\\xab\\x94\\xe4\\xb8\\xad\\xe6\\x96\\x87</a> |\\n      <a data-lang=\"zh-Hans\" href=\\'#\\'>\\xe7\\xae\\x80\\xe4\\xbd\\x93\\xe4\\xb8\\xad\\xe6\\x96\\x87</a>\\n    </div>\\n    <div id=\"message\">\\n      <p>As of November 1st, 2021 Yahoo\\xe2\\x80\\x99s suite of services will no longer be accessible from mainland China. Yahoo products and services remain unaffected in all other global locations. We thank you for your support and readership.</p>\\n    </div>\\n  </div>\\n<script>\\nconst Msg = {\\n  \\'en\\': \\'<p>As of November 1st, 2021 Yahoo\\xe2\\x80\\x99s suite of services will no longer be accessible from mainland China. Yahoo products and services remain unaffected in all other global locations. We thank you for your support and readership.</p>\\',\\n  \\'zh-Hant\\': \\'<p>2021 \\xe5\\xb9\\xb4 11 \\xe6\\x9c\\x88 1 \\xe6\\x97\\xa5\\xe8\\xb5\\xb7\\xef\\xbc\\x8c\\xe7\\x94\\xa8\\xe6\\x88\\xb6\\xe5\\xb0\\x87\\xe7\\x84\\xa1\\xe6\\xb3\\x95\\xe5\\xbe\\x9e\\xe4\\xb8\\xad\\xe5\\x9c\\x8b\\xe5\\xa4\\xa7\\xe9\\x99\\xb8\\xe4\\xbd\\xbf\\xe7\\x94\\xa8 Yahoo \\xe7\\x9a\\x84\\xe7\\x94\\xa2\\xe5\\x93\\x81\\xe8\\x88\\x87\\xe6\\x9c\\x8d\\xe5\\x8b\\x99\\xe3\\x80\\x82\\xe9\\x80\\x99\\xe4\\xb8\\xa6\\xe4\\xb8\\x8d\\xe5\\xbd\\xb1\\xe9\\x9f\\xbf Yahoo \\xe5\\x9c\\xa8\\xe5\\x85\\xa8\\xe7\\x90\\x83\\xe5\\x85\\xb6\\xe4\\xbb\\x96\\xe5\\x9c\\xb0\\xe6\\x96\\xb9\\xe7\\x9a\\x84\\xe7\\x94\\xa2\\xe5\\x93\\x81\\xe5\\x8f\\x8a\\xe6\\x9c\\x8d\\xe5\\x8b\\x99\\xe3\\x80\\x82\\xe6\\x88\\x91\\xe5\\x80\\x91\\xe6\\x84\\x9f\\xe8\\xac\\x9d\\xe6\\x82\\xa8\\xe4\\xb8\\x80\\xe7\\x9b\\xb4\\xe4\\xbb\\xa5\\xe4\\xbe\\x86\\xe7\\x9a\\x84\\xe6\\x94\\xaf\\xe6\\x8c\\x81\\xe3\\x80\\x82</p>\\',\\n  \\'zh-Hans\\': \\'<p>2021 \\xe5\\xb9\\xb4 11 \\xe6\\x9c\\x88 1 \\xe6\\x97\\xa5\\xe8\\xb5\\xb7\\xef\\xbc\\x8c\\xe7\\x94\\xa8\\xe6\\x88\\xb7\\xe5\\xb0\\x86\\xe6\\x97\\xa0\\xe6\\xb3\\x95\\xe4\\xbb\\x8e\\xe4\\xb8\\xad\\xe5\\x9b\\xbd\\xe5\\xa4\\xa7\\xe9\\x99\\x86\\xe4\\xbd\\xbf\\xe7\\x94\\xa8 Yahoo \\xe7\\x9a\\x84\\xe4\\xba\\xa7\\xe5\\x93\\x81\\xe4\\xb8\\x8e\\xe6\\x9c\\x8d\\xe5\\x8a\\xa1\\xe3\\x80\\x82\\xe8\\xbf\\x99\\xe5\\xb9\\xb6\\xe4\\xb8\\x8d\\xe5\\xbd\\xb1\\xe5\\x93\\x8d Yahoo \\xe5\\x9c\\xa8\\xe5\\x85\\xa8\\xe7\\x90\\x83\\xe5\\x85\\xb6\\xe4\\xbb\\x96\\xe5\\x9c\\xb0\\xe6\\x96\\xb9\\xe7\\x9a\\x84\\xe4\\xba\\xa7\\xe5\\x93\\x81\\xe5\\x8f\\x8a\\xe6\\x9c\\x8d\\xe5\\x8a\\xa1\\xe3\\x80\\x82\\xe6\\x88\\x91\\xe4\\xbb\\xac\\xe6\\x84\\x9f\\xe8\\xb0\\xa2\\xe4\\xbd\\xa0\\xe4\\xb8\\x80\\xe7\\x9b\\xb4\\xe4\\xbb\\xa5\\xe4\\xbe\\x86\\xe7\\x9a\\x84\\xe6\\x94\\xaf\\xe6\\x8c\\x81\\xe3\\x80\\x82</p>\\'\\n};\\n\\nconst message = document.querySelector(\\'#message\\');\\n\\nconst switchLang = function (lang) {\\n  message.innerHTML = Msg[lang] ? Msg[lang] : Msg.en;\\n  const oldE = document.querySelector(\\'#switcher .active\\');\\n  const newE = document.querySelector(`#switcher a[data-lang=${lang}]`);\\n  oldE.className = \\'\\';\\n  newE.className = \\'active\\';\\n}\\n\\nconst detectLang = function() {\\n  const langs = window.navigator.languages ? window.navigator.languages : [window.navigator.language];\\n  const availableLangs = langs.map(l => l.toLowerCase()).filter(l => /^en/.test(l) || /^zh/.test(l));\\n  const selectedLang = availableLangs.length ? availableLangs[0] : \\'en\\';\\n  const prefLang =  /^en/.test(selectedLang) ? \\'en\\' :\\n      (selectedLang === \\'zh-tw\\' || selectedLang === \\'zh-hk\\') ? \\'zh-Hant\\' : \\'zh-Hans\\';\\n  switchLang(prefLang);\\n}\\n\\nconst switcher = document.querySelector(\\'#switcher\\');\\nswitcher.addEventListener(\\'click\\', (e) => {\\n  const lang = e.target.getAttribute(\\'data-lang\\');\\n  if (lang) {\\n    switchLang(lang);\\n  }\\n});\\n\\ndetectLang();\\n\\n</script>\\n</body></html>\\n'",
     "output_type": "error",
     "traceback": [
      "\u001B[1;31m---------------------------------------------------------------------------\u001B[0m",
      "\u001B[1;31mRemoteDataError\u001B[0m                           Traceback (most recent call last)",
      "Input \u001B[1;32mIn [10]\u001B[0m, in \u001B[0;36m<cell line: 3>\u001B[1;34m()\u001B[0m\n\u001B[0;32m      1\u001B[0m \u001B[38;5;28;01mimport\u001B[39;00m \u001B[38;5;21;01mpandas_datareader\u001B[39;00m\u001B[38;5;21;01m.\u001B[39;00m\u001B[38;5;21;01mdata\u001B[39;00m \u001B[38;5;28;01mas\u001B[39;00m \u001B[38;5;21;01mweb\u001B[39;00m\n\u001B[1;32m----> 3\u001B[0m all_data \u001B[38;5;241m=\u001B[39m {ticker: web\u001B[38;5;241m.\u001B[39mget_data_yahoo(ticker)\n\u001B[0;32m      4\u001B[0m             \u001B[38;5;28;01mfor\u001B[39;00m ticker \u001B[38;5;129;01min\u001B[39;00m [\u001B[38;5;124m'\u001B[39m\u001B[38;5;124mAAPL\u001B[39m\u001B[38;5;124m'\u001B[39m, \u001B[38;5;124m'\u001B[39m\u001B[38;5;124mIBM\u001B[39m\u001B[38;5;124m'\u001B[39m, \u001B[38;5;124m'\u001B[39m\u001B[38;5;124mMSFT\u001B[39m\u001B[38;5;124m'\u001B[39m, \u001B[38;5;124m'\u001B[39m\u001B[38;5;124mGOOG\u001B[39m\u001B[38;5;124m'\u001B[39m]}\n\u001B[0;32m      5\u001B[0m price \u001B[38;5;241m=\u001B[39m pd\u001B[38;5;241m.\u001B[39mDataFrame({ticker: data[\u001B[38;5;124m'\u001B[39m\u001B[38;5;124mAdj Close\u001B[39m\u001B[38;5;124m'\u001B[39m]\n\u001B[0;32m      6\u001B[0m                       \u001B[38;5;28;01mfor\u001B[39;00m ticker, data \u001B[38;5;129;01min\u001B[39;00m all_data\u001B[38;5;241m.\u001B[39mitems()})\n\u001B[0;32m      7\u001B[0m volume \u001B[38;5;241m=\u001B[39m pd\u001B[38;5;241m.\u001B[39mDataFrame({ticker: data[\u001B[38;5;124m'\u001B[39m\u001B[38;5;124mvolume\u001B[39m\u001B[38;5;124m'\u001B[39m]\n\u001B[0;32m      8\u001B[0m                       \u001B[38;5;28;01mfor\u001B[39;00m ticker, data \u001B[38;5;129;01min\u001B[39;00m all_data\u001B[38;5;241m.\u001B[39mitems()})\n",
      "Input \u001B[1;32mIn [10]\u001B[0m, in \u001B[0;36m<dictcomp>\u001B[1;34m(.0)\u001B[0m\n\u001B[0;32m      1\u001B[0m \u001B[38;5;28;01mimport\u001B[39;00m \u001B[38;5;21;01mpandas_datareader\u001B[39;00m\u001B[38;5;21;01m.\u001B[39;00m\u001B[38;5;21;01mdata\u001B[39;00m \u001B[38;5;28;01mas\u001B[39;00m \u001B[38;5;21;01mweb\u001B[39;00m\n\u001B[1;32m----> 3\u001B[0m all_data \u001B[38;5;241m=\u001B[39m {ticker: \u001B[43mweb\u001B[49m\u001B[38;5;241;43m.\u001B[39;49m\u001B[43mget_data_yahoo\u001B[49m\u001B[43m(\u001B[49m\u001B[43mticker\u001B[49m\u001B[43m)\u001B[49m\n\u001B[0;32m      4\u001B[0m             \u001B[38;5;28;01mfor\u001B[39;00m ticker \u001B[38;5;129;01min\u001B[39;00m [\u001B[38;5;124m'\u001B[39m\u001B[38;5;124mAAPL\u001B[39m\u001B[38;5;124m'\u001B[39m, \u001B[38;5;124m'\u001B[39m\u001B[38;5;124mIBM\u001B[39m\u001B[38;5;124m'\u001B[39m, \u001B[38;5;124m'\u001B[39m\u001B[38;5;124mMSFT\u001B[39m\u001B[38;5;124m'\u001B[39m, \u001B[38;5;124m'\u001B[39m\u001B[38;5;124mGOOG\u001B[39m\u001B[38;5;124m'\u001B[39m]}\n\u001B[0;32m      5\u001B[0m price \u001B[38;5;241m=\u001B[39m pd\u001B[38;5;241m.\u001B[39mDataFrame({ticker: data[\u001B[38;5;124m'\u001B[39m\u001B[38;5;124mAdj Close\u001B[39m\u001B[38;5;124m'\u001B[39m]\n\u001B[0;32m      6\u001B[0m                       \u001B[38;5;28;01mfor\u001B[39;00m ticker, data \u001B[38;5;129;01min\u001B[39;00m all_data\u001B[38;5;241m.\u001B[39mitems()})\n\u001B[0;32m      7\u001B[0m volume \u001B[38;5;241m=\u001B[39m pd\u001B[38;5;241m.\u001B[39mDataFrame({ticker: data[\u001B[38;5;124m'\u001B[39m\u001B[38;5;124mvolume\u001B[39m\u001B[38;5;124m'\u001B[39m]\n\u001B[0;32m      8\u001B[0m                       \u001B[38;5;28;01mfor\u001B[39;00m ticker, data \u001B[38;5;129;01min\u001B[39;00m all_data\u001B[38;5;241m.\u001B[39mitems()})\n",
      "File \u001B[1;32mC:\\ProgramLanguage\\Anaconda3\\envs\\ml-gpu\\lib\\site-packages\\pandas_datareader\\data.py:80\u001B[0m, in \u001B[0;36mget_data_yahoo\u001B[1;34m(*args, **kwargs)\u001B[0m\n\u001B[0;32m     79\u001B[0m \u001B[38;5;28;01mdef\u001B[39;00m \u001B[38;5;21mget_data_yahoo\u001B[39m(\u001B[38;5;241m*\u001B[39margs, \u001B[38;5;241m*\u001B[39m\u001B[38;5;241m*\u001B[39mkwargs):\n\u001B[1;32m---> 80\u001B[0m     \u001B[38;5;28;01mreturn\u001B[39;00m \u001B[43mYahooDailyReader\u001B[49m\u001B[43m(\u001B[49m\u001B[38;5;241;43m*\u001B[39;49m\u001B[43margs\u001B[49m\u001B[43m,\u001B[49m\u001B[43m \u001B[49m\u001B[38;5;241;43m*\u001B[39;49m\u001B[38;5;241;43m*\u001B[39;49m\u001B[43mkwargs\u001B[49m\u001B[43m)\u001B[49m\u001B[38;5;241;43m.\u001B[39;49m\u001B[43mread\u001B[49m\u001B[43m(\u001B[49m\u001B[43m)\u001B[49m\n",
      "File \u001B[1;32mC:\\ProgramLanguage\\Anaconda3\\envs\\ml-gpu\\lib\\site-packages\\pandas_datareader\\base.py:253\u001B[0m, in \u001B[0;36m_DailyBaseReader.read\u001B[1;34m(self)\u001B[0m\n\u001B[0;32m    251\u001B[0m \u001B[38;5;66;03m# If a single symbol, (e.g., 'GOOG')\u001B[39;00m\n\u001B[0;32m    252\u001B[0m \u001B[38;5;28;01mif\u001B[39;00m \u001B[38;5;28misinstance\u001B[39m(\u001B[38;5;28mself\u001B[39m\u001B[38;5;241m.\u001B[39msymbols, (string_types, \u001B[38;5;28mint\u001B[39m)):\n\u001B[1;32m--> 253\u001B[0m     df \u001B[38;5;241m=\u001B[39m \u001B[38;5;28;43mself\u001B[39;49m\u001B[38;5;241;43m.\u001B[39;49m\u001B[43m_read_one_data\u001B[49m\u001B[43m(\u001B[49m\u001B[38;5;28;43mself\u001B[39;49m\u001B[38;5;241;43m.\u001B[39;49m\u001B[43murl\u001B[49m\u001B[43m,\u001B[49m\u001B[43m \u001B[49m\u001B[43mparams\u001B[49m\u001B[38;5;241;43m=\u001B[39;49m\u001B[38;5;28;43mself\u001B[39;49m\u001B[38;5;241;43m.\u001B[39;49m\u001B[43m_get_params\u001B[49m\u001B[43m(\u001B[49m\u001B[38;5;28;43mself\u001B[39;49m\u001B[38;5;241;43m.\u001B[39;49m\u001B[43msymbols\u001B[49m\u001B[43m)\u001B[49m\u001B[43m)\u001B[49m\n\u001B[0;32m    254\u001B[0m \u001B[38;5;66;03m# Or multiple symbols, (e.g., ['GOOG', 'AAPL', 'MSFT'])\u001B[39;00m\n\u001B[0;32m    255\u001B[0m \u001B[38;5;28;01melif\u001B[39;00m \u001B[38;5;28misinstance\u001B[39m(\u001B[38;5;28mself\u001B[39m\u001B[38;5;241m.\u001B[39msymbols, DataFrame):\n",
      "File \u001B[1;32mC:\\ProgramLanguage\\Anaconda3\\envs\\ml-gpu\\lib\\site-packages\\pandas_datareader\\yahoo\\daily.py:149\u001B[0m, in \u001B[0;36mYahooDailyReader._read_one_data\u001B[1;34m(self, url, params)\u001B[0m\n\u001B[0;32m    146\u001B[0m \u001B[38;5;28;01mdel\u001B[39;00m params[\u001B[38;5;124m\"\u001B[39m\u001B[38;5;124msymbol\u001B[39m\u001B[38;5;124m\"\u001B[39m]\n\u001B[0;32m    147\u001B[0m url \u001B[38;5;241m=\u001B[39m url\u001B[38;5;241m.\u001B[39mformat(symbol)\n\u001B[1;32m--> 149\u001B[0m resp \u001B[38;5;241m=\u001B[39m \u001B[38;5;28;43mself\u001B[39;49m\u001B[38;5;241;43m.\u001B[39;49m\u001B[43m_get_response\u001B[49m\u001B[43m(\u001B[49m\u001B[43murl\u001B[49m\u001B[43m,\u001B[49m\u001B[43m \u001B[49m\u001B[43mparams\u001B[49m\u001B[38;5;241;43m=\u001B[39;49m\u001B[43mparams\u001B[49m\u001B[43m,\u001B[49m\u001B[43m \u001B[49m\u001B[43mheaders\u001B[49m\u001B[38;5;241;43m=\u001B[39;49m\u001B[38;5;28;43mself\u001B[39;49m\u001B[38;5;241;43m.\u001B[39;49m\u001B[43mheaders\u001B[49m\u001B[43m)\u001B[49m\n\u001B[0;32m    150\u001B[0m ptrn \u001B[38;5;241m=\u001B[39m \u001B[38;5;124mr\u001B[39m\u001B[38;5;124m\"\u001B[39m\u001B[38;5;124mroot\u001B[39m\u001B[38;5;124m\\\u001B[39m\u001B[38;5;124m.App\u001B[39m\u001B[38;5;124m\\\u001B[39m\u001B[38;5;124m.main = (.*?);\u001B[39m\u001B[38;5;124m\\\u001B[39m\u001B[38;5;124mn}\u001B[39m\u001B[38;5;124m\\\u001B[39m\u001B[38;5;124m(this\u001B[39m\u001B[38;5;124m\\\u001B[39m\u001B[38;5;124m)\u001B[39m\u001B[38;5;124m\\\u001B[39m\u001B[38;5;124m);\u001B[39m\u001B[38;5;124m\"\u001B[39m\n\u001B[0;32m    151\u001B[0m \u001B[38;5;28;01mtry\u001B[39;00m:\n",
      "File \u001B[1;32mC:\\ProgramLanguage\\Anaconda3\\envs\\ml-gpu\\lib\\site-packages\\pandas_datareader\\base.py:181\u001B[0m, in \u001B[0;36m_BaseReader._get_response\u001B[1;34m(self, url, params, headers)\u001B[0m\n\u001B[0;32m    178\u001B[0m \u001B[38;5;28;01mif\u001B[39;00m last_response_text:\n\u001B[0;32m    179\u001B[0m     msg \u001B[38;5;241m+\u001B[39m\u001B[38;5;241m=\u001B[39m \u001B[38;5;124m\"\u001B[39m\u001B[38;5;130;01m\\n\u001B[39;00m\u001B[38;5;124mResponse Text:\u001B[39m\u001B[38;5;130;01m\\n\u001B[39;00m\u001B[38;5;132;01m{0}\u001B[39;00m\u001B[38;5;124m\"\u001B[39m\u001B[38;5;241m.\u001B[39mformat(last_response_text)\n\u001B[1;32m--> 181\u001B[0m \u001B[38;5;28;01mraise\u001B[39;00m RemoteDataError(msg)\n",
      "\u001B[1;31mRemoteDataError\u001B[0m: Unable to read URL: https://finance.yahoo.com/quote/AAPL/history?period1=1499284800&period2=1657051199&interval=1d&frequency=1d&filter=history\nResponse Text:\nb'<!DOCTYPE html>\\n<html lang=\"zh\">\\n<head>\\n    <meta charset=\"utf-8\">\\n    <title>Yahoo</title>\\n    <meta name=\"viewport\" content=\"width=device-width,initial-scale=1,minimal-ui\">\\n    <meta http-equiv=\"X-UA-Compatible\" content=\"IE=edge,chrome=1\">\\n    <style>\\nhtml {\\n  height: 100%;\\n}\\nbody {\\n  background: #fafafc url(https://s.yimg.com/nn/img/sad-panda-201402200631.png) 50% 50%;\\n  background-size: cover;\\n  height: 100%;\\n  text-align: center;\\n  font: 300 16px \"helvetica neue\", helvetica, verdana, tahoma, arial, sans-serif;\\n}\\n#message {\\n  text-align: left;\\n  font-weight: 400;\\n  color: #1A1A1A;\\n}\\n#message a {\\n  padding: 0 3px;\\n}\\n#container {\\n  position: absolute;\\n  top: 50%;\\n  left: 50%;\\n  padding: 0 30px;\\n  margin-right: -50%;\\n  transform: translate(-50%, -50%);\\n  max-width: 40em;\\n  _width: 40em;\\n}\\n#container img {\\n  width: 174px;\\n  height: auto;\\n}\\n#switcher a {\\n  font-weight: 400;\\n}\\n#switcher a.active {\\n  color: #000;\\n  text-decoration: none;\\n  cursor: default;\\n}\\n    </style>\\n</head>\\n<body>\\n  <div id=\"container\">\\n    <img src=\"https://s.yimg.com/rz/p/yahoo_homepage_en-US_s_f_p_bestfit_homepage_2x.png\" alt=\"Yahoo Logo\">\\n    <div id=\"switcher\">\\n      <a data-lang=\"en\" class=\"active\" href=\\'#\\'>English</a> |\\n      <a data-lang=\"zh-Hant\" href=\\'#\\'>\\xe7\\xb9\\x81\\xe9\\xab\\x94\\xe4\\xb8\\xad\\xe6\\x96\\x87</a> |\\n      <a data-lang=\"zh-Hans\" href=\\'#\\'>\\xe7\\xae\\x80\\xe4\\xbd\\x93\\xe4\\xb8\\xad\\xe6\\x96\\x87</a>\\n    </div>\\n    <div id=\"message\">\\n      <p>As of November 1st, 2021 Yahoo\\xe2\\x80\\x99s suite of services will no longer be accessible from mainland China. Yahoo products and services remain unaffected in all other global locations. We thank you for your support and readership.</p>\\n    </div>\\n  </div>\\n<script>\\nconst Msg = {\\n  \\'en\\': \\'<p>As of November 1st, 2021 Yahoo\\xe2\\x80\\x99s suite of services will no longer be accessible from mainland China. Yahoo products and services remain unaffected in all other global locations. We thank you for your support and readership.</p>\\',\\n  \\'zh-Hant\\': \\'<p>2021 \\xe5\\xb9\\xb4 11 \\xe6\\x9c\\x88 1 \\xe6\\x97\\xa5\\xe8\\xb5\\xb7\\xef\\xbc\\x8c\\xe7\\x94\\xa8\\xe6\\x88\\xb6\\xe5\\xb0\\x87\\xe7\\x84\\xa1\\xe6\\xb3\\x95\\xe5\\xbe\\x9e\\xe4\\xb8\\xad\\xe5\\x9c\\x8b\\xe5\\xa4\\xa7\\xe9\\x99\\xb8\\xe4\\xbd\\xbf\\xe7\\x94\\xa8 Yahoo \\xe7\\x9a\\x84\\xe7\\x94\\xa2\\xe5\\x93\\x81\\xe8\\x88\\x87\\xe6\\x9c\\x8d\\xe5\\x8b\\x99\\xe3\\x80\\x82\\xe9\\x80\\x99\\xe4\\xb8\\xa6\\xe4\\xb8\\x8d\\xe5\\xbd\\xb1\\xe9\\x9f\\xbf Yahoo \\xe5\\x9c\\xa8\\xe5\\x85\\xa8\\xe7\\x90\\x83\\xe5\\x85\\xb6\\xe4\\xbb\\x96\\xe5\\x9c\\xb0\\xe6\\x96\\xb9\\xe7\\x9a\\x84\\xe7\\x94\\xa2\\xe5\\x93\\x81\\xe5\\x8f\\x8a\\xe6\\x9c\\x8d\\xe5\\x8b\\x99\\xe3\\x80\\x82\\xe6\\x88\\x91\\xe5\\x80\\x91\\xe6\\x84\\x9f\\xe8\\xac\\x9d\\xe6\\x82\\xa8\\xe4\\xb8\\x80\\xe7\\x9b\\xb4\\xe4\\xbb\\xa5\\xe4\\xbe\\x86\\xe7\\x9a\\x84\\xe6\\x94\\xaf\\xe6\\x8c\\x81\\xe3\\x80\\x82</p>\\',\\n  \\'zh-Hans\\': \\'<p>2021 \\xe5\\xb9\\xb4 11 \\xe6\\x9c\\x88 1 \\xe6\\x97\\xa5\\xe8\\xb5\\xb7\\xef\\xbc\\x8c\\xe7\\x94\\xa8\\xe6\\x88\\xb7\\xe5\\xb0\\x86\\xe6\\x97\\xa0\\xe6\\xb3\\x95\\xe4\\xbb\\x8e\\xe4\\xb8\\xad\\xe5\\x9b\\xbd\\xe5\\xa4\\xa7\\xe9\\x99\\x86\\xe4\\xbd\\xbf\\xe7\\x94\\xa8 Yahoo \\xe7\\x9a\\x84\\xe4\\xba\\xa7\\xe5\\x93\\x81\\xe4\\xb8\\x8e\\xe6\\x9c\\x8d\\xe5\\x8a\\xa1\\xe3\\x80\\x82\\xe8\\xbf\\x99\\xe5\\xb9\\xb6\\xe4\\xb8\\x8d\\xe5\\xbd\\xb1\\xe5\\x93\\x8d Yahoo \\xe5\\x9c\\xa8\\xe5\\x85\\xa8\\xe7\\x90\\x83\\xe5\\x85\\xb6\\xe4\\xbb\\x96\\xe5\\x9c\\xb0\\xe6\\x96\\xb9\\xe7\\x9a\\x84\\xe4\\xba\\xa7\\xe5\\x93\\x81\\xe5\\x8f\\x8a\\xe6\\x9c\\x8d\\xe5\\x8a\\xa1\\xe3\\x80\\x82\\xe6\\x88\\x91\\xe4\\xbb\\xac\\xe6\\x84\\x9f\\xe8\\xb0\\xa2\\xe4\\xbd\\xa0\\xe4\\xb8\\x80\\xe7\\x9b\\xb4\\xe4\\xbb\\xa5\\xe4\\xbe\\x86\\xe7\\x9a\\x84\\xe6\\x94\\xaf\\xe6\\x8c\\x81\\xe3\\x80\\x82</p>\\'\\n};\\n\\nconst message = document.querySelector(\\'#message\\');\\n\\nconst switchLang = function (lang) {\\n  message.innerHTML = Msg[lang] ? Msg[lang] : Msg.en;\\n  const oldE = document.querySelector(\\'#switcher .active\\');\\n  const newE = document.querySelector(`#switcher a[data-lang=${lang}]`);\\n  oldE.className = \\'\\';\\n  newE.className = \\'active\\';\\n}\\n\\nconst detectLang = function() {\\n  const langs = window.navigator.languages ? window.navigator.languages : [window.navigator.language];\\n  const availableLangs = langs.map(l => l.toLowerCase()).filter(l => /^en/.test(l) || /^zh/.test(l));\\n  const selectedLang = availableLangs.length ? availableLangs[0] : \\'en\\';\\n  const prefLang =  /^en/.test(selectedLang) ? \\'en\\' :\\n      (selectedLang === \\'zh-tw\\' || selectedLang === \\'zh-hk\\') ? \\'zh-Hant\\' : \\'zh-Hans\\';\\n  switchLang(prefLang);\\n}\\n\\nconst switcher = document.querySelector(\\'#switcher\\');\\nswitcher.addEventListener(\\'click\\', (e) => {\\n  const lang = e.target.getAttribute(\\'data-lang\\');\\n  if (lang) {\\n    switchLang(lang);\\n  }\\n});\\n\\ndetectLang();\\n\\n</script>\\n</body></html>\\n'"
     ]
    }
   ],
   "source": [
    "import pandas_datareader.data as web\n",
    "\n",
    "all_data = {ticker: web.get_data_yahoo(ticker)\n",
    "            for ticker in ['AAPL', 'IBM', 'MSFT', 'GOOG']}\n",
    "price = pd.DataFrame({ticker: data['Adj Close']\n",
    "                      for ticker, data in all_data.items()})\n",
    "volume = pd.DataFrame({ticker: data['volume']\n",
    "                      for ticker, data in all_data.items()})"
   ],
   "metadata": {
    "collapsed": false,
    "pycharm": {
     "name": "#%%\n"
    }
   }
  },
  {
   "cell_type": "code",
   "execution_count": null,
   "outputs": [],
   "source": [
    "returns = price.pct_change()\n",
    "returns.tail()"
   ],
   "metadata": {
    "collapsed": false,
    "pycharm": {
     "name": "#%%\n"
    }
   }
  },
  {
   "cell_type": "markdown",
   "source": [
    "#### 唯一值、值计数以及成员资格"
   ],
   "metadata": {
    "collapsed": false
   }
  },
  {
   "cell_type": "code",
   "execution_count": 11,
   "outputs": [
    {
     "data": {
      "text/plain": "array(['c', 'a', 'd', 'b'], dtype=object)"
     },
     "execution_count": 11,
     "metadata": {},
     "output_type": "execute_result"
    }
   ],
   "source": [
    "obj = pd.Series(['c', 'a', 'd', 'a', 'a', 'b', 'b', 'c', 'c'])\n",
    "uniques = obj.unique()\n",
    "uniques"
   ],
   "metadata": {
    "collapsed": false,
    "pycharm": {
     "name": "#%%\n"
    }
   }
  },
  {
   "cell_type": "code",
   "execution_count": 12,
   "outputs": [
    {
     "data": {
      "text/plain": "c    3\na    3\nb    2\nd    1\ndtype: int64"
     },
     "execution_count": 12,
     "metadata": {},
     "output_type": "execute_result"
    }
   ],
   "source": [
    "obj.value_counts()"
   ],
   "metadata": {
    "collapsed": false,
    "pycharm": {
     "name": "#%%\n"
    }
   }
  },
  {
   "cell_type": "code",
   "execution_count": 13,
   "outputs": [
    {
     "data": {
      "text/plain": "c    3\na    3\nd    1\nb    2\ndtype: int64"
     },
     "execution_count": 13,
     "metadata": {},
     "output_type": "execute_result"
    }
   ],
   "source": [
    "pd.value_counts(obj.values, sort=False)"
   ],
   "metadata": {
    "collapsed": false,
    "pycharm": {
     "name": "#%%\n"
    }
   }
  },
  {
   "cell_type": "code",
   "execution_count": 15,
   "outputs": [
    {
     "data": {
      "text/plain": "0    c\n1    a\n2    d\n3    a\n4    a\n5    b\n6    b\n7    c\n8    c\ndtype: object"
     },
     "execution_count": 15,
     "metadata": {},
     "output_type": "execute_result"
    }
   ],
   "source": [
    "obj"
   ],
   "metadata": {
    "collapsed": false,
    "pycharm": {
     "name": "#%%\n"
    }
   }
  },
  {
   "cell_type": "code",
   "execution_count": 17,
   "outputs": [
    {
     "data": {
      "text/plain": "0    False\n1     True\n2    False\n3     True\n4     True\n5    False\n6    False\n7    False\n8    False\ndtype: bool"
     },
     "execution_count": 17,
     "metadata": {},
     "output_type": "execute_result"
    }
   ],
   "source": [
    "mask = obj.isin(['a'])\n",
    "mask"
   ],
   "metadata": {
    "collapsed": false,
    "pycharm": {
     "name": "#%%\n"
    }
   }
  },
  {
   "cell_type": "code",
   "execution_count": 18,
   "outputs": [
    {
     "data": {
      "text/plain": "1    a\n3    a\n4    a\ndtype: object"
     },
     "execution_count": 18,
     "metadata": {},
     "output_type": "execute_result"
    }
   ],
   "source": [
    "obj[mask]"
   ],
   "metadata": {
    "collapsed": false,
    "pycharm": {
     "name": "#%%\n"
    }
   }
  },
  {
   "cell_type": "code",
   "execution_count": 19,
   "outputs": [
    {
     "data": {
      "text/plain": "array([0, 2, 1, 1, 0, 2], dtype=int64)"
     },
     "execution_count": 19,
     "metadata": {},
     "output_type": "execute_result"
    }
   ],
   "source": [
    "to_match = pd.Series(['c', 'a', 'b', 'b', 'c', 'a'])\n",
    "unique_vals = pd.Series(['c', 'b', 'a'])\n",
    "pd.Index(unique_vals).get_indexer(to_match)"
   ],
   "metadata": {
    "collapsed": false,
    "pycharm": {
     "name": "#%%\n"
    }
   }
  },
  {
   "cell_type": "code",
   "execution_count": 20,
   "outputs": [
    {
     "data": {
      "text/plain": "   Qu1  Qu2  Qu3\n0    1    2    1\n1    3    3    5\n2    4    1    2\n3    3    2    4\n4    4    3    4",
      "text/html": "<div>\n<style scoped>\n    .dataframe tbody tr th:only-of-type {\n        vertical-align: middle;\n    }\n\n    .dataframe tbody tr th {\n        vertical-align: top;\n    }\n\n    .dataframe thead th {\n        text-align: right;\n    }\n</style>\n<table border=\"1\" class=\"dataframe\">\n  <thead>\n    <tr style=\"text-align: right;\">\n      <th></th>\n      <th>Qu1</th>\n      <th>Qu2</th>\n      <th>Qu3</th>\n    </tr>\n  </thead>\n  <tbody>\n    <tr>\n      <th>0</th>\n      <td>1</td>\n      <td>2</td>\n      <td>1</td>\n    </tr>\n    <tr>\n      <th>1</th>\n      <td>3</td>\n      <td>3</td>\n      <td>5</td>\n    </tr>\n    <tr>\n      <th>2</th>\n      <td>4</td>\n      <td>1</td>\n      <td>2</td>\n    </tr>\n    <tr>\n      <th>3</th>\n      <td>3</td>\n      <td>2</td>\n      <td>4</td>\n    </tr>\n    <tr>\n      <th>4</th>\n      <td>4</td>\n      <td>3</td>\n      <td>4</td>\n    </tr>\n  </tbody>\n</table>\n</div>"
     },
     "execution_count": 20,
     "metadata": {},
     "output_type": "execute_result"
    }
   ],
   "source": [
    "data = pd.DataFrame({'Qu1': [1, 3, 4, 3, 4],\n",
    "                     'Qu2': [2, 3, 1, 2, 3],\n",
    "                     'Qu3': [1, 5, 2, 4, 4]})\n",
    "data"
   ],
   "metadata": {
    "collapsed": false,
    "pycharm": {
     "name": "#%%\n"
    }
   }
  },
  {
   "cell_type": "code",
   "execution_count": 23,
   "outputs": [
    {
     "data": {
      "text/plain": "   Qu1  Qu2  Qu3\n1  1.0  1.0  1.0\n2  0.0  2.0  1.0\n3  2.0  2.0  0.0\n4  2.0  0.0  2.0\n5  0.0  0.0  1.0",
      "text/html": "<div>\n<style scoped>\n    .dataframe tbody tr th:only-of-type {\n        vertical-align: middle;\n    }\n\n    .dataframe tbody tr th {\n        vertical-align: top;\n    }\n\n    .dataframe thead th {\n        text-align: right;\n    }\n</style>\n<table border=\"1\" class=\"dataframe\">\n  <thead>\n    <tr style=\"text-align: right;\">\n      <th></th>\n      <th>Qu1</th>\n      <th>Qu2</th>\n      <th>Qu3</th>\n    </tr>\n  </thead>\n  <tbody>\n    <tr>\n      <th>1</th>\n      <td>1.0</td>\n      <td>1.0</td>\n      <td>1.0</td>\n    </tr>\n    <tr>\n      <th>2</th>\n      <td>0.0</td>\n      <td>2.0</td>\n      <td>1.0</td>\n    </tr>\n    <tr>\n      <th>3</th>\n      <td>2.0</td>\n      <td>2.0</td>\n      <td>0.0</td>\n    </tr>\n    <tr>\n      <th>4</th>\n      <td>2.0</td>\n      <td>0.0</td>\n      <td>2.0</td>\n    </tr>\n    <tr>\n      <th>5</th>\n      <td>0.0</td>\n      <td>0.0</td>\n      <td>1.0</td>\n    </tr>\n  </tbody>\n</table>\n</div>"
     },
     "execution_count": 23,
     "metadata": {},
     "output_type": "execute_result"
    }
   ],
   "source": [
    "result = data.apply(pd.value_counts).fillna(0)\n",
    "result"
   ],
   "metadata": {
    "collapsed": false,
    "pycharm": {
     "name": "#%%\n"
    }
   }
  },
  {
   "cell_type": "code",
   "execution_count": 24,
   "outputs": [
    {
     "data": {
      "text/plain": "Qu1\n3    2\n4    2\n1    1\ndtype: int64"
     },
     "execution_count": 24,
     "metadata": {},
     "output_type": "execute_result"
    }
   ],
   "source": [
    "data.value_counts('Qu1')"
   ],
   "metadata": {
    "collapsed": false,
    "pycharm": {
     "name": "#%%\n"
    }
   }
  },
  {
   "cell_type": "code",
   "execution_count": 26,
   "outputs": [
    {
     "data": {
      "text/plain": "Qu1\n1    1.0\n2    0.0\n3    2.0\n4    2.0\n5    0.0\ndtype: float64"
     },
     "execution_count": 26,
     "metadata": {},
     "output_type": "execute_result"
    }
   ],
   "source": [
    "data.value_counts('Qu1').reindex(range(1, 6)).fillna(0)"
   ],
   "metadata": {
    "collapsed": false,
    "pycharm": {
     "name": "#%%\n"
    }
   }
  }
 ],
 "metadata": {
  "kernelspec": {
   "name": "pycharm-93e84c60",
   "language": "python",
   "display_name": "PyCharm (practice)"
  },
  "language_info": {
   "codemirror_mode": {
    "name": "ipython",
    "version": 2
   },
   "file_extension": ".py",
   "mimetype": "text/x-python",
   "name": "python",
   "nbconvert_exporter": "python",
   "pygments_lexer": "ipython2",
   "version": "2.7.6"
  }
 },
 "nbformat": 4,
 "nbformat_minor": 0
}